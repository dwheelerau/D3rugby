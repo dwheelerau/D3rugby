{
 "cells": [
  {
   "cell_type": "code",
   "execution_count": 28,
   "metadata": {},
   "outputs": [
    {
     "name": "stdout",
     "output_type": "stream",
     "text": [
      "Argentina\n",
      "Australia\n",
      "Canada\n",
      "Ivory Coast\n",
      "England\n",
      "Fiji\n",
      "France\n",
      "Georgia\n",
      "Ireland\n",
      "Italy\n",
      "Japan\n",
      "Namibia\n",
      "New Zealand\n",
      "Portugal\n",
      "Romania\n",
      "Russia\n",
      "Samoa\n",
      "Scotland\n",
      "South Africa\n",
      "Tonga\n",
      "Uruguay\n",
      "United States\n",
      "Wales\n",
      "Zimbabwe\n"
     ]
    }
   ],
   "source": [
    "import csv\n",
    "\n",
    "name_dict = {}\n",
    "\n",
    "with open('./static/data/data.csv') as f:\n",
    "    csv_reader = csv.reader(f)\n",
    "    next(csv_reader)\n",
    "    for row in csv_reader:\n",
    "        country = row[0].replace('\\xc2\\xa0', '')\n",
    "        name = row[1]\n",
    "        tri = int(row[2].split(' ')[0])\n",
    "        if country not in name_dict:\n",
    "            print(country)\n",
    "            name_dict[country] = [{\"name\":name, \"try\":tri}]\n",
    "        else:\n",
    "            name_dict[country].append({\"name\": name, \"try\":tri})\n",
    "            "
   ]
  },
  {
   "cell_type": "code",
   "execution_count": 29,
   "metadata": {},
   "outputs": [],
   "source": [
    "data = [name_dict]"
   ]
  },
  {
   "cell_type": "code",
   "execution_count": 30,
   "metadata": {},
   "outputs": [],
   "source": [
    "import json"
   ]
  },
  {
   "cell_type": "code",
   "execution_count": 25,
   "metadata": {
    "collapsed": true
   },
   "outputs": [],
   "source": [
    "json.dump?"
   ]
  },
  {
   "cell_type": "code",
   "execution_count": 31,
   "metadata": {
    "collapsed": true
   },
   "outputs": [],
   "source": [
    "with open('test.json', 'w') as w:\n",
    "    json.dump(data, w)"
   ]
  },
  {
   "cell_type": "code",
   "execution_count": null,
   "metadata": {
    "collapsed": true
   },
   "outputs": [],
   "source": []
  }
 ],
 "metadata": {
  "kernelspec": {
   "display_name": "Python 2",
   "language": "python",
   "name": "python2"
  },
  "language_info": {
   "codemirror_mode": {
    "name": "ipython",
    "version": 2
   },
   "file_extension": ".py",
   "mimetype": "text/x-python",
   "name": "python",
   "nbconvert_exporter": "python",
   "pygments_lexer": "ipython2",
   "version": "2.7.12"
  }
 },
 "nbformat": 4,
 "nbformat_minor": 2
}
