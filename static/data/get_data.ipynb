{
 "cells": [
  {
   "cell_type": "code",
   "execution_count": 14,
   "metadata": {},
   "outputs": [],
   "source": [
    "# urls now working\n",
    "\n",
    "from bs4 import BeautifulSoup\n",
    "import bs4\n",
    "\n",
    "with open('wiki.html') as f:\n",
    "    soup = BeautifulSoup(f.read(), 'html.parser')"
   ]
  },
  {
   "cell_type": "code",
   "execution_count": 2,
   "metadata": {},
   "outputs": [
    {
     "name": "stdout",
     "output_type": "stream",
     "text": [
      "<li><a href=\"/wiki/Lucas_Borges\" title=\"Lucas Borges\">Lucas Borges</a></li>\n"
     ]
    }
   ],
   "source": [
    "import csv\n",
    "outfile = open('data.csv', 'w')\n",
    "csv_writer = csv.writer(outfile)\n",
    "links = []\n",
    "for strong_tag in soup.find_all('h2'):\n",
    "    if strong_tag.span:\n",
    "        country = strong_tag.span.text\n",
    "        parts = strong_tag.next_siblings\n",
    "        for line in parts:\n",
    "            if line.find('dt')>-1:\n",
    "                tries = line.find('dt').text.encode('utf-8')\n",
    "                #countries[name].append(tries.text)\n",
    "            if line.find('li')>-1:\n",
    "                try:\n",
    "                    aref = \"https://en.wikipedia.org\" + line.a['href'].strip()\n",
    "                    links.append(aref)\n",
    "                    name_text = line.text.encode('utf-8').strip()\n",
    "                    players_names = name_text.split('\\n')\n",
    "                    if name_text.find('Manuel Contepomi')>-1:\n",
    "                        print(line.li)\n",
    "                        \n",
    "                    for player in players_names:\n",
    "                        if player == '' or player[:2] =='19' or player[:2] == '20':\n",
    "                            pass\n",
    "                        elif aref.upper().find('TEMPLATE')>-1:\n",
    "                            pass\n",
    "                        else:\n",
    "                            out_data = [country.encode('utf-8'), tries.encode('utf-8'),\n",
    "                                        player.encode('utf-8'), \"https://en.wikipedia.org\" + aref.encode('utf-8')]\n",
    "                            csv_writer.writerow(out_data)\n",
    "                            \n",
    "                        \n",
    "                except:\n",
    "                    pass\n",
    "outfile.close()"
   ]
  },
  {
   "cell_type": "code",
   "execution_count": 68,
   "metadata": {},
   "outputs": [],
   "source": [
    "import csv\n",
    "d = []\n",
    "outfile = open('data2.csv', 'w')\n",
    "csv_writer = csv.writer(outfile)\n",
    "links = []\n",
    "for strong_tag in soup.find_all('h2'):\n",
    "    if strong_tag.span:\n",
    "        #country = strong_tag.span.text\n",
    "        parts = strong_tag.next_siblings\n",
    "        for line in parts:\n",
    "            if line.find('dt')>-1:\n",
    "                tries = line.find('dt').text.encode('utf-8')\n",
    "                nextul = line.find_next_sibling('ul')\n",
    "                for n in nextul.children:\n",
    "                    if n.name == 'li':\n",
    "                        country = nextul.find_previous('h2').text.encode('utf-8')[:-6]\n",
    "                        out = [country, n.text.encode('utf-8'), \n",
    "                               tries.encode('utf-8'), \"https://en.wikipedia.org\" + n.a['href'].encode('utf-8')]\n",
    "                        csv_writer.writerow(out)\n",
    "        break\n",
    "outfile.close()"
   ]
  },
  {
   "cell_type": "code",
   "execution_count": 64,
   "metadata": {},
   "outputs": [
    {
     "data": {
      "text/plain": [
       "u'\\xa0Argentina[edit]'"
      ]
     },
     "execution_count": 64,
     "metadata": {},
     "output_type": "execute_result"
    }
   ],
   "source": [
    "d[0]"
   ]
  },
  {
   "cell_type": "code",
   "execution_count": 53,
   "metadata": {},
   "outputs": [
    {
     "data": {
      "text/plain": [
       "[<h2>Contents</h2>,\n",
       " <h2><span class=\"mw-headline\" id=\"_Argentina\"><span class=\"flagicon\"><img alt=\"\" class=\"thumbborder\" data-file-height=\"500\" data-file-width=\"800\" height=\"14\" src=\"//upload.wikimedia.org/wikipedia/commons/thumb/1/1a/Flag_of_Argentina.svg/23px-Flag_of_Argentina.svg.png\" srcset=\"//upload.wikimedia.org/wikipedia/commons/thumb/1/1a/Flag_of_Argentina.svg/35px-Flag_of_Argentina.svg.png 1.5x, //upload.wikimedia.org/wikipedia/commons/thumb/1/1a/Flag_of_Argentina.svg/46px-Flag_of_Argentina.svg.png 2x\" width=\"23\"/>\\xa0</span><a href=\"/wiki/Argentina_national_rugby_union_team\" title=\"Argentina national rugby union team\">Argentina</a></span><span class=\"mw-editsection\"><span class=\"mw-editsection-bracket\">[</span><a href=\"/w/index.php?title=List_of_Rugby_World_Cup_try_scorers&amp;action=edit&amp;section=1\" title=\"Edit section: \\xa0Argentina\">edit</a><span class=\"mw-editsection-bracket\">]</span></span></h2>,\n",
       " <h2><span class=\"mw-headline\" id=\"_Australia\"><span class=\"flagicon\"><img alt=\"\" class=\"thumbborder\" data-file-height=\"640\" data-file-width=\"1280\" height=\"12\" src=\"//upload.wikimedia.org/wikipedia/en/thumb/b/b9/Flag_of_Australia.svg/23px-Flag_of_Australia.svg.png\" srcset=\"//upload.wikimedia.org/wikipedia/en/thumb/b/b9/Flag_of_Australia.svg/35px-Flag_of_Australia.svg.png 1.5x, //upload.wikimedia.org/wikipedia/en/thumb/b/b9/Flag_of_Australia.svg/46px-Flag_of_Australia.svg.png 2x\" width=\"23\"/>\\xa0</span><a href=\"/wiki/Australia_national_rugby_union_team\" title=\"Australia national rugby union team\">Australia</a></span><span class=\"mw-editsection\"><span class=\"mw-editsection-bracket\">[</span><a href=\"/w/index.php?title=List_of_Rugby_World_Cup_try_scorers&amp;action=edit&amp;section=2\" title=\"Edit section: \\xa0Australia\">edit</a><span class=\"mw-editsection-bracket\">]</span></span></h2>,\n",
       " <h2><span class=\"mw-headline\" id=\"_Canada\"><span class=\"flagicon\"><img alt=\"\" class=\"thumbborder\" data-file-height=\"500\" data-file-width=\"1000\" height=\"12\" src=\"//upload.wikimedia.org/wikipedia/en/thumb/c/cf/Flag_of_Canada.svg/23px-Flag_of_Canada.svg.png\" srcset=\"//upload.wikimedia.org/wikipedia/en/thumb/c/cf/Flag_of_Canada.svg/35px-Flag_of_Canada.svg.png 1.5x, //upload.wikimedia.org/wikipedia/en/thumb/c/cf/Flag_of_Canada.svg/46px-Flag_of_Canada.svg.png 2x\" width=\"23\"/>\\xa0</span><a href=\"/wiki/Canada_national_rugby_union_team\" title=\"Canada national rugby union team\">Canada</a></span><span class=\"mw-editsection\"><span class=\"mw-editsection-bracket\">[</span><a href=\"/w/index.php?title=List_of_Rugby_World_Cup_try_scorers&amp;action=edit&amp;section=3\" title=\"Edit section: \\xa0Canada\">edit</a><span class=\"mw-editsection-bracket\">]</span></span></h2>,\n",
       " <h2><span class=\"mw-headline\" id=\"_Ivory_Coast\"><span class=\"flagicon\"><img alt=\"\" class=\"thumbborder\" data-file-height=\"300\" data-file-width=\"450\" height=\"15\" src=\"//upload.wikimedia.org/wikipedia/commons/thumb/f/fe/Flag_of_C%C3%B4te_d%27Ivoire.svg/23px-Flag_of_C%C3%B4te_d%27Ivoire.svg.png\" srcset=\"//upload.wikimedia.org/wikipedia/commons/thumb/f/fe/Flag_of_C%C3%B4te_d%27Ivoire.svg/35px-Flag_of_C%C3%B4te_d%27Ivoire.svg.png 1.5x, //upload.wikimedia.org/wikipedia/commons/thumb/f/fe/Flag_of_C%C3%B4te_d%27Ivoire.svg/45px-Flag_of_C%C3%B4te_d%27Ivoire.svg.png 2x\" width=\"23\"/>\\xa0</span><a href=\"/wiki/Ivory_Coast_national_rugby_union_team\" title=\"Ivory Coast national rugby union team\">Ivory Coast</a></span><span class=\"mw-editsection\"><span class=\"mw-editsection-bracket\">[</span><a href=\"/w/index.php?title=List_of_Rugby_World_Cup_try_scorers&amp;action=edit&amp;section=4\" title=\"Edit section: \\xa0Ivory Coast\">edit</a><span class=\"mw-editsection-bracket\">]</span></span></h2>,\n",
       " <h2><span class=\"mw-headline\" id=\"_England\"><span class=\"flagicon\"><img alt=\"\" class=\"thumbborder\" data-file-height=\"480\" data-file-width=\"800\" height=\"14\" src=\"//upload.wikimedia.org/wikipedia/en/thumb/b/be/Flag_of_England.svg/23px-Flag_of_England.svg.png\" srcset=\"//upload.wikimedia.org/wikipedia/en/thumb/b/be/Flag_of_England.svg/35px-Flag_of_England.svg.png 1.5x, //upload.wikimedia.org/wikipedia/en/thumb/b/be/Flag_of_England.svg/46px-Flag_of_England.svg.png 2x\" width=\"23\"/>\\xa0</span><a href=\"/wiki/England_national_rugby_union_team\" title=\"England national rugby union team\">England</a></span><span class=\"mw-editsection\"><span class=\"mw-editsection-bracket\">[</span><a href=\"/w/index.php?title=List_of_Rugby_World_Cup_try_scorers&amp;action=edit&amp;section=5\" title=\"Edit section: \\xa0England\">edit</a><span class=\"mw-editsection-bracket\">]</span></span></h2>,\n",
       " <h2><span class=\"mw-headline\" id=\"_Fiji\"><span class=\"flagicon\"><img alt=\"\" class=\"thumbborder\" data-file-height=\"600\" data-file-width=\"1200\" height=\"12\" src=\"//upload.wikimedia.org/wikipedia/commons/thumb/b/ba/Flag_of_Fiji.svg/23px-Flag_of_Fiji.svg.png\" srcset=\"//upload.wikimedia.org/wikipedia/commons/thumb/b/ba/Flag_of_Fiji.svg/35px-Flag_of_Fiji.svg.png 1.5x, //upload.wikimedia.org/wikipedia/commons/thumb/b/ba/Flag_of_Fiji.svg/46px-Flag_of_Fiji.svg.png 2x\" width=\"23\"/>\\xa0</span><a href=\"/wiki/Fiji_national_rugby_union_team\" title=\"Fiji national rugby union team\">Fiji</a></span><span class=\"mw-editsection\"><span class=\"mw-editsection-bracket\">[</span><a href=\"/w/index.php?title=List_of_Rugby_World_Cup_try_scorers&amp;action=edit&amp;section=6\" title=\"Edit section: \\xa0Fiji\">edit</a><span class=\"mw-editsection-bracket\">]</span></span></h2>,\n",
       " <h2><span class=\"mw-headline\" id=\"_France\"><span class=\"flagicon\"><img alt=\"\" class=\"thumbborder\" data-file-height=\"600\" data-file-width=\"900\" height=\"15\" src=\"//upload.wikimedia.org/wikipedia/en/thumb/c/c3/Flag_of_France.svg/23px-Flag_of_France.svg.png\" srcset=\"//upload.wikimedia.org/wikipedia/en/thumb/c/c3/Flag_of_France.svg/35px-Flag_of_France.svg.png 1.5x, //upload.wikimedia.org/wikipedia/en/thumb/c/c3/Flag_of_France.svg/45px-Flag_of_France.svg.png 2x\" width=\"23\"/>\\xa0</span><a href=\"/wiki/France_national_rugby_union_team\" title=\"France national rugby union team\">France</a></span><span class=\"mw-editsection\"><span class=\"mw-editsection-bracket\">[</span><a href=\"/w/index.php?title=List_of_Rugby_World_Cup_try_scorers&amp;action=edit&amp;section=7\" title=\"Edit section: \\xa0France\">edit</a><span class=\"mw-editsection-bracket\">]</span></span></h2>,\n",
       " <h2><span class=\"mw-headline\" id=\"_Georgia\"><span class=\"flagicon\"><img alt=\"\" class=\"thumbborder\" data-file-height=\"600\" data-file-width=\"900\" height=\"15\" src=\"//upload.wikimedia.org/wikipedia/commons/thumb/0/0f/Flag_of_Georgia.svg/23px-Flag_of_Georgia.svg.png\" srcset=\"//upload.wikimedia.org/wikipedia/commons/thumb/0/0f/Flag_of_Georgia.svg/35px-Flag_of_Georgia.svg.png 1.5x, //upload.wikimedia.org/wikipedia/commons/thumb/0/0f/Flag_of_Georgia.svg/45px-Flag_of_Georgia.svg.png 2x\" width=\"23\"/>\\xa0</span><a href=\"/wiki/Georgia_national_rugby_union_team\" title=\"Georgia national rugby union team\">Georgia</a></span><span class=\"mw-editsection\"><span class=\"mw-editsection-bracket\">[</span><a href=\"/w/index.php?title=List_of_Rugby_World_Cup_try_scorers&amp;action=edit&amp;section=8\" title=\"Edit section: \\xa0Georgia\">edit</a><span class=\"mw-editsection-bracket\">]</span></span></h2>,\n",
       " <h2><span class=\"mw-headline\" id=\"_Ireland\"><span class=\"flagicon\"><img alt=\"\" class=\"thumbborder\" data-file-height=\"800\" data-file-width=\"1200\" height=\"15\" src=\"//upload.wikimedia.org/wikipedia/commons/thumb/a/ad/IRFU_flag.svg/23px-IRFU_flag.svg.png\" srcset=\"//upload.wikimedia.org/wikipedia/commons/thumb/a/ad/IRFU_flag.svg/35px-IRFU_flag.svg.png 1.5x, //upload.wikimedia.org/wikipedia/commons/thumb/a/ad/IRFU_flag.svg/45px-IRFU_flag.svg.png 2x\" width=\"23\"/>\\xa0</span><a href=\"/wiki/Ireland_national_rugby_union_team\" title=\"Ireland national rugby union team\">Ireland</a></span><span class=\"mw-editsection\"><span class=\"mw-editsection-bracket\">[</span><a href=\"/w/index.php?title=List_of_Rugby_World_Cup_try_scorers&amp;action=edit&amp;section=9\" title=\"Edit section: \\xa0Ireland\">edit</a><span class=\"mw-editsection-bracket\">]</span></span></h2>,\n",
       " <h2><span class=\"mw-headline\" id=\"_Italy\"><span class=\"flagicon\"><img alt=\"\" class=\"thumbborder\" data-file-height=\"1000\" data-file-width=\"1500\" height=\"15\" src=\"//upload.wikimedia.org/wikipedia/en/thumb/0/03/Flag_of_Italy.svg/23px-Flag_of_Italy.svg.png\" srcset=\"//upload.wikimedia.org/wikipedia/en/thumb/0/03/Flag_of_Italy.svg/35px-Flag_of_Italy.svg.png 1.5x, //upload.wikimedia.org/wikipedia/en/thumb/0/03/Flag_of_Italy.svg/45px-Flag_of_Italy.svg.png 2x\" width=\"23\"/>\\xa0</span><a href=\"/wiki/Italy_national_rugby_union_team\" title=\"Italy national rugby union team\">Italy</a></span><span class=\"mw-editsection\"><span class=\"mw-editsection-bracket\">[</span><a href=\"/w/index.php?title=List_of_Rugby_World_Cup_try_scorers&amp;action=edit&amp;section=10\" title=\"Edit section: \\xa0Italy\">edit</a><span class=\"mw-editsection-bracket\">]</span></span></h2>,\n",
       " <h2><span class=\"mw-headline\" id=\"_Japan\"><span class=\"flagicon\"><img alt=\"\" class=\"thumbborder\" data-file-height=\"600\" data-file-width=\"900\" height=\"15\" src=\"//upload.wikimedia.org/wikipedia/en/thumb/9/9e/Flag_of_Japan.svg/23px-Flag_of_Japan.svg.png\" srcset=\"//upload.wikimedia.org/wikipedia/en/thumb/9/9e/Flag_of_Japan.svg/35px-Flag_of_Japan.svg.png 1.5x, //upload.wikimedia.org/wikipedia/en/thumb/9/9e/Flag_of_Japan.svg/45px-Flag_of_Japan.svg.png 2x\" width=\"23\"/>\\xa0</span><a href=\"/wiki/Japan_national_rugby_union_team\" title=\"Japan national rugby union team\">Japan</a></span><span class=\"mw-editsection\"><span class=\"mw-editsection-bracket\">[</span><a href=\"/w/index.php?title=List_of_Rugby_World_Cup_try_scorers&amp;action=edit&amp;section=11\" title=\"Edit section: \\xa0Japan\">edit</a><span class=\"mw-editsection-bracket\">]</span></span></h2>,\n",
       " <h2><span class=\"mw-headline\" id=\"_Namibia\"><span class=\"flagicon\"><img alt=\"\" class=\"thumbborder\" data-file-height=\"600\" data-file-width=\"900\" height=\"15\" src=\"//upload.wikimedia.org/wikipedia/commons/thumb/0/00/Flag_of_Namibia.svg/23px-Flag_of_Namibia.svg.png\" srcset=\"//upload.wikimedia.org/wikipedia/commons/thumb/0/00/Flag_of_Namibia.svg/35px-Flag_of_Namibia.svg.png 1.5x, //upload.wikimedia.org/wikipedia/commons/thumb/0/00/Flag_of_Namibia.svg/45px-Flag_of_Namibia.svg.png 2x\" width=\"23\"/>\\xa0</span><a href=\"/wiki/Namibia_national_rugby_union_team\" title=\"Namibia national rugby union team\">Namibia</a></span><span class=\"mw-editsection\"><span class=\"mw-editsection-bracket\">[</span><a href=\"/w/index.php?title=List_of_Rugby_World_Cup_try_scorers&amp;action=edit&amp;section=12\" title=\"Edit section: \\xa0Namibia\">edit</a><span class=\"mw-editsection-bracket\">]</span></span></h2>,\n",
       " <h2><span class=\"mw-headline\" id=\"_New_Zealand\"><span class=\"flagicon\"><img alt=\"\" class=\"thumbborder\" data-file-height=\"600\" data-file-width=\"1200\" height=\"12\" src=\"//upload.wikimedia.org/wikipedia/commons/thumb/3/3e/Flag_of_New_Zealand.svg/23px-Flag_of_New_Zealand.svg.png\" srcset=\"//upload.wikimedia.org/wikipedia/commons/thumb/3/3e/Flag_of_New_Zealand.svg/35px-Flag_of_New_Zealand.svg.png 1.5x, //upload.wikimedia.org/wikipedia/commons/thumb/3/3e/Flag_of_New_Zealand.svg/46px-Flag_of_New_Zealand.svg.png 2x\" width=\"23\"/>\\xa0</span><a href=\"/wiki/New_Zealand_national_rugby_union_team\" title=\"New Zealand national rugby union team\">New Zealand</a></span><span class=\"mw-editsection\"><span class=\"mw-editsection-bracket\">[</span><a href=\"/w/index.php?title=List_of_Rugby_World_Cup_try_scorers&amp;action=edit&amp;section=13\" title=\"Edit section: \\xa0New Zealand\">edit</a><span class=\"mw-editsection-bracket\">]</span></span></h2>,\n",
       " <h2><span class=\"mw-headline\" id=\"_Portugal\"><span class=\"flagicon\"><img alt=\"\" class=\"thumbborder\" data-file-height=\"400\" data-file-width=\"600\" height=\"15\" src=\"//upload.wikimedia.org/wikipedia/commons/thumb/5/5c/Flag_of_Portugal.svg/23px-Flag_of_Portugal.svg.png\" srcset=\"//upload.wikimedia.org/wikipedia/commons/thumb/5/5c/Flag_of_Portugal.svg/35px-Flag_of_Portugal.svg.png 1.5x, //upload.wikimedia.org/wikipedia/commons/thumb/5/5c/Flag_of_Portugal.svg/45px-Flag_of_Portugal.svg.png 2x\" width=\"23\"/>\\xa0</span><a href=\"/wiki/Portugal_national_rugby_union_team\" title=\"Portugal national rugby union team\">Portugal</a></span><span class=\"mw-editsection\"><span class=\"mw-editsection-bracket\">[</span><a href=\"/w/index.php?title=List_of_Rugby_World_Cup_try_scorers&amp;action=edit&amp;section=14\" title=\"Edit section: \\xa0Portugal\">edit</a><span class=\"mw-editsection-bracket\">]</span></span></h2>,\n",
       " <h2><span class=\"mw-headline\" id=\"_Romania\"><span class=\"flagicon\"><img alt=\"\" class=\"thumbborder\" data-file-height=\"400\" data-file-width=\"600\" height=\"15\" src=\"//upload.wikimedia.org/wikipedia/commons/thumb/7/73/Flag_of_Romania.svg/23px-Flag_of_Romania.svg.png\" srcset=\"//upload.wikimedia.org/wikipedia/commons/thumb/7/73/Flag_of_Romania.svg/35px-Flag_of_Romania.svg.png 1.5x, //upload.wikimedia.org/wikipedia/commons/thumb/7/73/Flag_of_Romania.svg/45px-Flag_of_Romania.svg.png 2x\" width=\"23\"/>\\xa0</span><a href=\"/wiki/Romania_national_rugby_union_team\" title=\"Romania national rugby union team\">Romania</a></span><span class=\"mw-editsection\"><span class=\"mw-editsection-bracket\">[</span><a href=\"/w/index.php?title=List_of_Rugby_World_Cup_try_scorers&amp;action=edit&amp;section=15\" title=\"Edit section: \\xa0Romania\">edit</a><span class=\"mw-editsection-bracket\">]</span></span></h2>,\n",
       " <h2><span class=\"mw-headline\" id=\"_Russia\"><span class=\"flagicon\"><img alt=\"\" class=\"thumbborder\" data-file-height=\"600\" data-file-width=\"900\" height=\"15\" src=\"//upload.wikimedia.org/wikipedia/en/thumb/f/f3/Flag_of_Russia.svg/23px-Flag_of_Russia.svg.png\" srcset=\"//upload.wikimedia.org/wikipedia/en/thumb/f/f3/Flag_of_Russia.svg/35px-Flag_of_Russia.svg.png 1.5x, //upload.wikimedia.org/wikipedia/en/thumb/f/f3/Flag_of_Russia.svg/45px-Flag_of_Russia.svg.png 2x\" width=\"23\"/>\\xa0</span><a href=\"/wiki/Russia_national_rugby_union_team\" title=\"Russia national rugby union team\">Russia</a></span><span class=\"mw-editsection\"><span class=\"mw-editsection-bracket\">[</span><a href=\"/w/index.php?title=List_of_Rugby_World_Cup_try_scorers&amp;action=edit&amp;section=16\" title=\"Edit section: \\xa0Russia\">edit</a><span class=\"mw-editsection-bracket\">]</span></span></h2>,\n",
       " <h2><span class=\"mw-headline\" id=\"_Samoa\"><span class=\"flagicon\"><img alt=\"\" class=\"thumbborder\" data-file-height=\"1440\" data-file-width=\"2880\" height=\"12\" src=\"//upload.wikimedia.org/wikipedia/commons/thumb/3/31/Flag_of_Samoa.svg/23px-Flag_of_Samoa.svg.png\" srcset=\"//upload.wikimedia.org/wikipedia/commons/thumb/3/31/Flag_of_Samoa.svg/35px-Flag_of_Samoa.svg.png 1.5x, //upload.wikimedia.org/wikipedia/commons/thumb/3/31/Flag_of_Samoa.svg/46px-Flag_of_Samoa.svg.png 2x\" width=\"23\"/>\\xa0</span><a href=\"/wiki/Samoa_national_rugby_union_team\" title=\"Samoa national rugby union team\">Samoa</a></span><span class=\"mw-editsection\"><span class=\"mw-editsection-bracket\">[</span><a href=\"/w/index.php?title=List_of_Rugby_World_Cup_try_scorers&amp;action=edit&amp;section=17\" title=\"Edit section: \\xa0Samoa\">edit</a><span class=\"mw-editsection-bracket\">]</span></span></h2>,\n",
       " <h2><span class=\"mw-headline\" id=\"_Scotland\"><span class=\"flagicon\"><img alt=\"\" class=\"thumbborder\" data-file-height=\"600\" data-file-width=\"1000\" height=\"14\" src=\"//upload.wikimedia.org/wikipedia/commons/thumb/1/10/Flag_of_Scotland.svg/23px-Flag_of_Scotland.svg.png\" srcset=\"//upload.wikimedia.org/wikipedia/commons/thumb/1/10/Flag_of_Scotland.svg/35px-Flag_of_Scotland.svg.png 1.5x, //upload.wikimedia.org/wikipedia/commons/thumb/1/10/Flag_of_Scotland.svg/46px-Flag_of_Scotland.svg.png 2x\" width=\"23\"/>\\xa0</span><a href=\"/wiki/Scotland_national_rugby_union_team\" title=\"Scotland national rugby union team\">Scotland</a></span><span class=\"mw-editsection\"><span class=\"mw-editsection-bracket\">[</span><a href=\"/w/index.php?title=List_of_Rugby_World_Cup_try_scorers&amp;action=edit&amp;section=18\" title=\"Edit section: \\xa0Scotland\">edit</a><span class=\"mw-editsection-bracket\">]</span></span></h2>,\n",
       " <h2><span class=\"mw-headline\" id=\"_South_Africa\"><span class=\"flagicon\"><img alt=\"\" class=\"thumbborder\" data-file-height=\"600\" data-file-width=\"900\" height=\"15\" src=\"//upload.wikimedia.org/wikipedia/commons/thumb/a/af/Flag_of_South_Africa.svg/23px-Flag_of_South_Africa.svg.png\" srcset=\"//upload.wikimedia.org/wikipedia/commons/thumb/a/af/Flag_of_South_Africa.svg/35px-Flag_of_South_Africa.svg.png 1.5x, //upload.wikimedia.org/wikipedia/commons/thumb/a/af/Flag_of_South_Africa.svg/45px-Flag_of_South_Africa.svg.png 2x\" width=\"23\"/>\\xa0</span><a href=\"/wiki/South_Africa_national_rugby_union_team\" title=\"South Africa national rugby union team\">South Africa</a></span><span class=\"mw-editsection\"><span class=\"mw-editsection-bracket\">[</span><a href=\"/w/index.php?title=List_of_Rugby_World_Cup_try_scorers&amp;action=edit&amp;section=19\" title=\"Edit section: \\xa0South Africa\">edit</a><span class=\"mw-editsection-bracket\">]</span></span></h2>,\n",
       " <h2><span class=\"mw-headline\" id=\"_Spain\"><span class=\"flagicon\"><img alt=\"\" class=\"thumbborder\" data-file-height=\"500\" data-file-width=\"750\" height=\"15\" src=\"//upload.wikimedia.org/wikipedia/en/thumb/9/9a/Flag_of_Spain.svg/23px-Flag_of_Spain.svg.png\" srcset=\"//upload.wikimedia.org/wikipedia/en/thumb/9/9a/Flag_of_Spain.svg/35px-Flag_of_Spain.svg.png 1.5x, //upload.wikimedia.org/wikipedia/en/thumb/9/9a/Flag_of_Spain.svg/45px-Flag_of_Spain.svg.png 2x\" width=\"23\"/>\\xa0</span><a href=\"/wiki/Spain_national_rugby_union_team\" title=\"Spain national rugby union team\">Spain</a></span><span class=\"mw-editsection\"><span class=\"mw-editsection-bracket\">[</span><a href=\"/w/index.php?title=List_of_Rugby_World_Cup_try_scorers&amp;action=edit&amp;section=20\" title=\"Edit section: \\xa0Spain\">edit</a><span class=\"mw-editsection-bracket\">]</span></span></h2>,\n",
       " <h2><span class=\"mw-headline\" id=\"_Tonga\"><span class=\"flagicon\"><img alt=\"\" class=\"thumbborder\" data-file-height=\"480\" data-file-width=\"960\" height=\"12\" src=\"//upload.wikimedia.org/wikipedia/commons/thumb/9/9a/Flag_of_Tonga.svg/23px-Flag_of_Tonga.svg.png\" srcset=\"//upload.wikimedia.org/wikipedia/commons/thumb/9/9a/Flag_of_Tonga.svg/35px-Flag_of_Tonga.svg.png 1.5x, //upload.wikimedia.org/wikipedia/commons/thumb/9/9a/Flag_of_Tonga.svg/46px-Flag_of_Tonga.svg.png 2x\" width=\"23\"/>\\xa0</span><a href=\"/wiki/Tonga_national_rugby_union_team\" title=\"Tonga national rugby union team\">Tonga</a></span><span class=\"mw-editsection\"><span class=\"mw-editsection-bracket\">[</span><a href=\"/w/index.php?title=List_of_Rugby_World_Cup_try_scorers&amp;action=edit&amp;section=21\" title=\"Edit section: \\xa0Tonga\">edit</a><span class=\"mw-editsection-bracket\">]</span></span></h2>,\n",
       " <h2><span class=\"mw-headline\" id=\"_Uruguay\"><span class=\"flagicon\"><img alt=\"\" class=\"thumbborder\" data-file-height=\"600\" data-file-width=\"900\" height=\"15\" src=\"//upload.wikimedia.org/wikipedia/commons/thumb/f/fe/Flag_of_Uruguay.svg/23px-Flag_of_Uruguay.svg.png\" srcset=\"//upload.wikimedia.org/wikipedia/commons/thumb/f/fe/Flag_of_Uruguay.svg/35px-Flag_of_Uruguay.svg.png 1.5x, //upload.wikimedia.org/wikipedia/commons/thumb/f/fe/Flag_of_Uruguay.svg/45px-Flag_of_Uruguay.svg.png 2x\" width=\"23\"/>\\xa0</span><a href=\"/wiki/Uruguay_national_rugby_union_team\" title=\"Uruguay national rugby union team\">Uruguay</a></span><span class=\"mw-editsection\"><span class=\"mw-editsection-bracket\">[</span><a href=\"/w/index.php?title=List_of_Rugby_World_Cup_try_scorers&amp;action=edit&amp;section=22\" title=\"Edit section: \\xa0Uruguay\">edit</a><span class=\"mw-editsection-bracket\">]</span></span></h2>,\n",
       " <h2><span class=\"mw-headline\" id=\"_United_States\"><span class=\"flagicon\"><img alt=\"\" class=\"thumbborder\" data-file-height=\"650\" data-file-width=\"1235\" height=\"12\" src=\"//upload.wikimedia.org/wikipedia/en/thumb/a/a4/Flag_of_the_United_States.svg/23px-Flag_of_the_United_States.svg.png\" srcset=\"//upload.wikimedia.org/wikipedia/en/thumb/a/a4/Flag_of_the_United_States.svg/35px-Flag_of_the_United_States.svg.png 1.5x, //upload.wikimedia.org/wikipedia/en/thumb/a/a4/Flag_of_the_United_States.svg/46px-Flag_of_the_United_States.svg.png 2x\" width=\"23\"/>\\xa0</span><a href=\"/wiki/United_States_national_rugby_union_team\" title=\"United States national rugby union team\">United States</a></span><span class=\"mw-editsection\"><span class=\"mw-editsection-bracket\">[</span><a href=\"/w/index.php?title=List_of_Rugby_World_Cup_try_scorers&amp;action=edit&amp;section=23\" title=\"Edit section: \\xa0United States\">edit</a><span class=\"mw-editsection-bracket\">]</span></span></h2>,\n",
       " <h2><span class=\"mw-headline\" id=\"_Wales\"><span class=\"flagicon\"><img alt=\"\" class=\"thumbborder\" data-file-height=\"498\" data-file-width=\"830\" height=\"14\" src=\"//upload.wikimedia.org/wikipedia/commons/thumb/a/a9/Flag_of_Wales_%281959%E2%80%93present%29.svg/23px-Flag_of_Wales_%281959%E2%80%93present%29.svg.png\" srcset=\"//upload.wikimedia.org/wikipedia/commons/thumb/a/a9/Flag_of_Wales_%281959%E2%80%93present%29.svg/35px-Flag_of_Wales_%281959%E2%80%93present%29.svg.png 1.5x, //upload.wikimedia.org/wikipedia/commons/thumb/a/a9/Flag_of_Wales_%281959%E2%80%93present%29.svg/46px-Flag_of_Wales_%281959%E2%80%93present%29.svg.png 2x\" width=\"23\"/>\\xa0</span><a href=\"/wiki/Wales_national_rugby_union_team\" title=\"Wales national rugby union team\">Wales</a></span><span class=\"mw-editsection\"><span class=\"mw-editsection-bracket\">[</span><a href=\"/w/index.php?title=List_of_Rugby_World_Cup_try_scorers&amp;action=edit&amp;section=24\" title=\"Edit section: \\xa0Wales\">edit</a><span class=\"mw-editsection-bracket\">]</span></span></h2>,\n",
       " <h2><span class=\"mw-headline\" id=\"_Zimbabwe\"><span class=\"flagicon\"><img alt=\"\" class=\"thumbborder\" data-file-height=\"420\" data-file-width=\"840\" height=\"12\" src=\"//upload.wikimedia.org/wikipedia/commons/thumb/6/6a/Flag_of_Zimbabwe.svg/23px-Flag_of_Zimbabwe.svg.png\" srcset=\"//upload.wikimedia.org/wikipedia/commons/thumb/6/6a/Flag_of_Zimbabwe.svg/35px-Flag_of_Zimbabwe.svg.png 1.5x, //upload.wikimedia.org/wikipedia/commons/thumb/6/6a/Flag_of_Zimbabwe.svg/46px-Flag_of_Zimbabwe.svg.png 2x\" width=\"23\"/>\\xa0</span><a href=\"/wiki/Zimbabwe_national_rugby_union_team\" title=\"Zimbabwe national rugby union team\">Zimbabwe</a></span><span class=\"mw-editsection\"><span class=\"mw-editsection-bracket\">[</span><a href=\"/w/index.php?title=List_of_Rugby_World_Cup_try_scorers&amp;action=edit&amp;section=25\" title=\"Edit section: \\xa0Zimbabwe\">edit</a><span class=\"mw-editsection-bracket\">]</span></span></h2>]"
      ]
     },
     "execution_count": 53,
     "metadata": {},
     "output_type": "execute_result"
    }
   ],
   "source": [
    "\n"
   ]
  },
  {
   "cell_type": "code",
   "execution_count": 5,
   "metadata": {},
   "outputs": [
    {
     "ename": "AttributeError",
     "evalue": "'NavigableString' object has no attribute 'a'",
     "output_type": "error",
     "traceback": [
      "\u001b[0;31m---------------------------------------------------------------------------\u001b[0m",
      "\u001b[0;31mAttributeError\u001b[0m                            Traceback (most recent call last)",
      "\u001b[0;32m<ipython-input-5-a9aed843d155>\u001b[0m in \u001b[0;36m<module>\u001b[0;34m()\u001b[0m\n\u001b[0;32m----> 1\u001b[0;31m \u001b[0mn\u001b[0m\u001b[0;34m.\u001b[0m\u001b[0ma\u001b[0m\u001b[0;34m\u001b[0m\u001b[0m\n\u001b[0m\u001b[1;32m      2\u001b[0m \u001b[0;34m\u001b[0m\u001b[0m\n",
      "\u001b[0;32m/usr/local/lib/python2.7/dist-packages/bs4/element.pyc\u001b[0m in \u001b[0;36m__getattr__\u001b[0;34m(self, attr)\u001b[0m\n\u001b[1;32m    735\u001b[0m             raise AttributeError(\n\u001b[1;32m    736\u001b[0m                 \"'%s' object has no attribute '%s'\" % (\n\u001b[0;32m--> 737\u001b[0;31m                     self.__class__.__name__, attr))\n\u001b[0m\u001b[1;32m    738\u001b[0m \u001b[0;34m\u001b[0m\u001b[0m\n\u001b[1;32m    739\u001b[0m     \u001b[0;32mdef\u001b[0m \u001b[0moutput_ready\u001b[0m\u001b[0;34m(\u001b[0m\u001b[0mself\u001b[0m\u001b[0;34m,\u001b[0m \u001b[0mformatter\u001b[0m\u001b[0;34m=\u001b[0m\u001b[0;34m\"minimal\"\u001b[0m\u001b[0;34m)\u001b[0m\u001b[0;34m:\u001b[0m\u001b[0;34m\u001b[0m\u001b[0m\n",
      "\u001b[0;31mAttributeError\u001b[0m: 'NavigableString' object has no attribute 'a'"
     ]
    }
   ],
   "source": [
    "n.a\n",
    "    "
   ]
  },
  {
   "cell_type": "code",
   "execution_count": null,
   "metadata": {},
   "outputs": [],
   "source": []
  },
  {
   "cell_type": "code",
   "execution_count": null,
   "metadata": {
    "collapsed": true
   },
   "outputs": [],
   "source": []
  }
 ],
 "metadata": {
  "kernelspec": {
   "display_name": "Python 2",
   "language": "python",
   "name": "python2"
  },
  "language_info": {
   "codemirror_mode": {
    "name": "ipython",
    "version": 2
   },
   "file_extension": ".py",
   "mimetype": "text/x-python",
   "name": "python",
   "nbconvert_exporter": "python",
   "pygments_lexer": "ipython2",
   "version": "2.7.12"
  }
 },
 "nbformat": 4,
 "nbformat_minor": 2
}
